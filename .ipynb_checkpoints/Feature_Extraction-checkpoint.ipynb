{
 "cells": [
  {
   "cell_type": "code",
   "execution_count": 130,
   "metadata": {},
   "outputs": [],
   "source": [
    "import tensorflow as tf\n",
    "import pandas as pd\n",
    "import keras\n",
    "from keras.layers import Input, Conv2D, Lambda, merge, Dense, Flatten,MaxPooling2D,Dropout\n",
    "from keras.models import Model, Sequential\n",
    "from keras.regularizers import l2\n",
    "import numpy.random as rng\n",
    "from keras import backend as K\n",
    "from keras.optimizers import SGD,Adam\n",
    "from keras.losses import binary_crossentropy\n",
    "import matplotlib.pyplot as plt\n",
    "import matplotlib\n",
    "import numpy as np\n",
    "import math\n",
    "import h5py\n",
    "import string\n",
    "from tensorflow.python.framework import ops\n",
    "import string"
   ]
  },
  {
   "cell_type": "code",
   "execution_count": 75,
   "metadata": {},
   "outputs": [],
   "source": [
    "df = pd.read_csv('./training.csv')"
   ]
  },
  {
   "cell_type": "code",
   "execution_count": 76,
   "metadata": {},
   "outputs": [],
   "source": [
    "df = df.dropna()"
   ]
  },
  {
   "cell_type": "code",
   "execution_count": 77,
   "metadata": {},
   "outputs": [
    {
     "name": "stdout",
     "output_type": "stream",
     "text": [
      "(2140, 96, 96)\n"
     ]
    }
   ],
   "source": [
    "images = np.zeros([len(df.Image),96,96])\n",
    "for index,strimg in enumerate(df.Image) :\n",
    "    img=np.zeros([96,96])\n",
    "    test=np.fromstring(strimg, dtype=int, sep=' ')\n",
    "    i=0\n",
    "    j=0\n",
    "    for items in range(0,len(test)):\n",
    "        img[i,:] = test[j:j+96]\n",
    "        if (items+1)%96==0:\n",
    "            i=i+1\n",
    "            j=items+1\n",
    "    images[index,:,:]  = img       \n",
    "print(np.shape(images))"
   ]
  },
  {
   "cell_type": "code",
   "execution_count": 125,
   "metadata": {},
   "outputs": [
    {
     "data": {
      "text/plain": [
       "<matplotlib.image.AxesImage at 0x7f1bd0070510>"
      ]
     },
     "execution_count": 125,
     "metadata": {},
     "output_type": "execute_result"
    },
    {
     "data": {
      "image/png": "[encoded data removed]",
      "text/plain": [
       "<matplotlib.figure.Figure at 0x7f1bd009f690>"
      ]
     },
     "metadata": {},
     "output_type": "display_data"
    }
   ],
   "source": [
    "plt.imshow(images[30], cmap=plt.cm.gray)\n"
   ]
  },
  {
   "cell_type": "code",
   "execution_count": 79,
   "metadata": {
    "collapsed": true
   },
   "outputs": [],
   "source": [
    "images.dump(\"./Training_Images.pkl\")"
   ]
  },
  {
   "cell_type": "code",
   "execution_count": 112,
   "metadata": {},
   "outputs": [
    {
     "data": {
      "text/plain": [
       "(2140, 30)"
      ]
     },
     "execution_count": 112,
     "metadata": {},
     "output_type": "execute_result"
    }
   ],
   "source": [
    "X=np.asarray(df.iloc[:,0:-1])\n",
    "np.shape(X)\n"
   ]
  },
  {
   "cell_type": "code",
   "execution_count": 117,
   "metadata": {},
   "outputs": [
    {
     "data": {
      "text/plain": [
       "(2140, 96, 96)"
      ]
     },
     "execution_count": 117,
     "metadata": {},
     "output_type": "execute_result"
    }
   ],
   "source": [
    "np.shape(images)"
   ]
  },
  {
   "cell_type": "code",
   "execution_count": 137,
   "metadata": {},
   "outputs": [
    {
     "name": "stdout",
     "output_type": "stream",
     "text": [
      "_________________________________________________________________\n",
      "Layer (type)                 Output Shape              Param #   \n",
      "=================================================================\n",
      "conv2d_23 (Conv2D)           (None, 93, 93, 32)        544       \n",
      "_________________________________________________________________\n",
      "max_pooling2d_21 (MaxPooling (None, 46, 46, 32)        0         \n",
      "_________________________________________________________________\n",
      "dropout_30 (Dropout)         (None, 46, 46, 32)        0         \n",
      "_________________________________________________________________\n",
      "conv2d_24 (Conv2D)           (None, 44, 44, 64)        18496     \n",
      "_________________________________________________________________\n",
      "max_pooling2d_22 (MaxPooling (None, 22, 22, 64)        0         \n",
      "_________________________________________________________________\n",
      "dropout_31 (Dropout)         (None, 22, 22, 64)        0         \n",
      "_________________________________________________________________\n",
      "conv2d_25 (Conv2D)           (None, 21, 21, 128)       32896     \n",
      "_________________________________________________________________\n",
      "max_pooling2d_23 (MaxPooling (None, 10, 10, 128)       0         \n",
      "_________________________________________________________________\n",
      "dropout_32 (Dropout)         (None, 10, 10, 128)       0         \n",
      "_________________________________________________________________\n",
      "conv2d_26 (Conv2D)           (None, 10, 10, 256)       33024     \n",
      "_________________________________________________________________\n",
      "max_pooling2d_24 (MaxPooling (None, 5, 5, 256)         0         \n",
      "_________________________________________________________________\n",
      "dropout_33 (Dropout)         (None, 5, 5, 256)         0         \n",
      "_________________________________________________________________\n",
      "flatten_6 (Flatten)          (None, 6400)              0         \n",
      "_________________________________________________________________\n",
      "dense_16 (Dense)             (None, 1000)              6401000   \n",
      "_________________________________________________________________\n",
      "dropout_34 (Dropout)         (None, 1000)              0         \n",
      "_________________________________________________________________\n",
      "dense_17 (Dense)             (None, 1000)              1001000   \n",
      "_________________________________________________________________\n",
      "dropout_35 (Dropout)         (None, 1000)              0         \n",
      "_________________________________________________________________\n",
      "dense_18 (Dense)             (None, 30)                30030     \n",
      "=================================================================\n",
      "Total params: 7,516,990\n",
      "Trainable params: 7,516,990\n",
      "Non-trainable params: 0\n",
      "_________________________________________________________________\n",
      "[array([[0.64554197, 0.6122989 , 0.67187434, 0.6443136 , 0.67012614,\n",
      "        0.59096056, 0.62384355, 0.6106417 , 0.56942505, 0.6462388 ,\n",
      "        0.59717184, 0.68352735, 0.67542166, 0.672456  , 0.63366085,\n",
      "        0.60990775, 0.75333416, 0.65130836, 0.6209511 , 0.61505   ,\n",
      "        0.6533639 , 0.5882602 , 0.6521875 , 0.5936667 , 0.65265423,\n",
      "        0.64748394, 0.5930329 , 0.58126193, 0.57866746, 0.7258408 ]],\n",
      "      dtype=float32)]\n"
     ]
    }
   ],
   "source": [
    "def W_init(shape,name=None):\n",
    "    \"\"\"Initialize weights as in paper\"\"\"\n",
    "    values = rng.normal(loc=0,scale=1e-2,size=shape)\n",
    "    return K.variable(values,name=name)\n",
    "#//TODO: figure out how to initialize layer biases in keras.\n",
    "def b_init(shape,name=None):\n",
    "    \"\"\"Initialize bias as in paper\"\"\"\n",
    "    values=rng.normal(loc=0.5,scale=1e-2,size=shape)\n",
    "    return K.variable(values,name=name)\n",
    "\n",
    "input_shape = (96,96,1)\n",
    "model = Sequential()\n",
    "model.add(Conv2D(32,(4,4),activation='relu',input_shape=input_shape,kernel_initializer=W_init,kernel_regularizer=l2(2e-4)))\n",
    "model.add(MaxPooling2D())\n",
    "model.add(Dropout(0.1))\n",
    "model.add(Conv2D(64,(3,3),activation='relu',kernel_initializer=W_init,kernel_regularizer=l2(2e-4)))\n",
    "model.add(MaxPooling2D())\n",
    "model.add(Dropout(0.2))\n",
    "model.add(Conv2D(128,(2,2),activation='relu',kernel_initializer=W_init,kernel_regularizer=l2(2e-4)))\n",
    "model.add(MaxPooling2D())\n",
    "model.add(Dropout(0.3))\n",
    "model.add(Conv2D(256,(1,1),activation='relu',kernel_initializer=W_init,kernel_regularizer=l2(2e-4)))\n",
    "model.add(MaxPooling2D())\n",
    "model.add(Dropout(0.4))\n",
    "model.add(Flatten())\n",
    "model.add(Dense(1000,activation=\"sigmoid\",kernel_regularizer=l2(1e-3),kernel_initializer=W_init,bias_initializer=b_init))\n",
    "model.add(Dropout(0.5))\n",
    "model.add(Dense(1000,activation=\"sigmoid\",kernel_regularizer=l2(1e-3),kernel_initializer=W_init,bias_initializer=b_init))\n",
    "model.add(Dropout(0.6))\n",
    "model.add(Dense(30,activation=\"sigmoid\",kernel_regularizer=l2(1e-3),kernel_initializer=W_init,bias_initializer=b_init))\n",
    "\n",
    "x = tf.placeholder(tf.float32, shape=(None, 96,96,1))\n",
    "y = model(x)\n",
    "\n",
    "with tf.Session() as sess:\n",
    "    init=tf.global_variables_initializer()\n",
    "    sess.run(init)\n",
    "    ans = sess.run([y],feed_dict = {x :(images[0]).reshape(1,96,96,1)})\n",
    "model.summary()\n",
    "print ans"
   ]
  },
  {
   "cell_type": "code",
   "execution_count": 143,
   "metadata": {},
   "outputs": [
    {
     "data": {
      "text/plain": [
       "array([61.97203 , 58.780693, 64.49994 , 61.854103, 64.33211 , 56.732216,\n",
       "       59.88898 , 58.621605, 54.664803, 62.038925, 57.3285  , 65.61862 ,\n",
       "       64.84048 , 64.55578 , 60.831444, 58.551144, 72.32008 , 62.525604,\n",
       "       59.611305, 59.0448  , 62.72293 , 56.472977, 62.61    , 56.992   ,\n",
       "       62.654808, 62.15846 , 56.93116 , 55.801147, 55.55208 , 69.68072 ],\n",
       "      dtype=float32)"
      ]
     },
     "execution_count": 143,
     "metadata": {},
     "output_type": "execute_result"
    }
   ],
   "source": [
    "np.ravel(ans)*96"
   ]
  },
  {
   "cell_type": "code",
   "execution_count": 146,
   "metadata": {},
   "outputs": [
    {
     "data": {
      "text/plain": [
       "array([64.33293617, 34.9700766 , 29.9492766 , 33.44871489, 58.85617021,\n",
       "       35.27434894, 70.7227234 , 36.18716596, 36.0347234 , 34.36153191,\n",
       "       24.47251064, 33.14444255, 53.98740426, 28.27594894, 78.63421277,\n",
       "       30.4059234 , 42.72885106, 26.14604255, 16.8653617 , 27.05885957,\n",
       "       48.20629787, 55.66093617, 56.42144681, 76.352     , 35.12238298,\n",
       "       76.04765957, 46.68459574, 70.26655319, 45.46791489, 85.48017021])"
      ]
     },
     "execution_count": 146,
     "metadata": {},
     "output_type": "execute_result"
    }
   ],
   "source": [
    "X[1]"
   ]
  },
  {
   "cell_type": "code",
   "execution_count": null,
   "metadata": {
    "collapsed": true
   },
   "outputs": [],
   "source": []
  }
 ],
 "metadata": {
  "kernelspec": {
   "display_name": "tensorflow",
   "language": "python",
   "name": "tensorflow"
  },
  "language_info": {
   "codemirror_mode": {
    "name": "ipython",
    "version": 2
   },
   "file_extension": ".py",
   "mimetype": "text/x-python",
   "name": "python",
   "nbconvert_exporter": "python",
   "pygments_lexer": "ipython2",
   "version": "2.7.13"
  }
 },
 "nbformat": 4,
 "nbformat_minor": 2
}
